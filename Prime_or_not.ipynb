{
  "nbformat": 4,
  "nbformat_minor": 0,
  "metadata": {
    "colab": {
      "name": "Prime or not.ipynb",
      "provenance": []
    },
    "kernelspec": {
      "name": "python3",
      "display_name": "Python 3"
    },
    "language_info": {
      "name": "python"
    }
  },
  "cells": [
    {
      "cell_type": "code",
      "execution_count": null,
      "metadata": {
        "id": "xxyiCvGqOjG8"
      },
      "outputs": [],
      "source": [
        "f = 0\n",
        "i = 0 \n",
        "a= int(input(\"Enter a number\"))\n",
        "b=a\n",
        "while (a<= 1):\n",
        "  a= int(input(\"Enter a number\"))\n",
        "  b=a\n",
        "else:\n",
        "  for i in range (2,b):\n",
        "    if ((a%i)==0):\n",
        "      f=1\n",
        "      break\n",
        "    else:\n",
        "      b = b-1\n",
        "if(f==0):\n",
        "  print(\"Prime\")\n",
        "\n",
        "else:\n",
        "  print(\"NOT PRIME\")"
      ]
    }
  ]
}